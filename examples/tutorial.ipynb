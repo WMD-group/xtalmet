{
 "cells": [
  {
   "cell_type": "markdown",
   "id": "ea98e193",
   "metadata": {},
   "source": [
    "# Tutorial on xtalmet package\n",
    "This notebook provides a tutorial on the two primary features of the `xtalmet` package:\n",
    "- Calculating distances between crystals\n",
    "- Evaluating the uniqueness and novelty of a given set of generated crystals."
   ]
  },
  {
   "cell_type": "markdown",
   "id": "a960f95c",
   "metadata": {},
   "source": [
    "### Setup"
   ]
  },
  {
   "cell_type": "code",
   "execution_count": null,
   "id": "afbf97d6",
   "metadata": {},
   "outputs": [],
   "source": [
    "import gzip\n",
    "import pickle\n",
    "\n",
    "from huggingface_hub import hf_hub_download\n",
    "from pymatgen.core import Lattice, Structure\n",
    "\n",
    "from xtalmet.constants import HF_VERSION\n",
    "from xtalmet.distance import distance\n",
    "from xtalmet.evaluator import Evaluator"
   ]
  },
  {
   "cell_type": "markdown",
   "id": "f2a97aa2",
   "metadata": {},
   "source": [
    "### Distance calculation"
   ]
  },
  {
   "cell_type": "code",
   "execution_count": 2,
   "id": "d8531772",
   "metadata": {},
   "outputs": [
    {
     "name": "stderr",
     "output_type": "stream",
     "text": [
      "UserWarning: Issues encountered while parsing CIF: 4 fractional coordinates rounded to ideal values to avoid issues with finite precision.\n"
     ]
    }
   ],
   "source": [
    "# prepare five crystals\n",
    "wzZnO = Structure.from_file(\"data/wz-ZnO.cif\")\n",
    "rsZnO = Structure.from_file(\"data/rs-ZnO.cif\")\n",
    "wzGaN = Structure.from_file(\"data/wz-GaN.cif\")\n",
    "Bi2Te3 = Structure.from_file(\"data/Bi2Te3.cif\")\n",
    "# The fifth crystal is the 2x2x2 supercell of wz-ZnO\n",
    "frac_coords_super = []\n",
    "species_super = []\n",
    "for frac_coord, specie in zip(wzZnO.frac_coords, wzZnO.species, strict=False):\n",
    "\tfor i in range(2):\n",
    "\t\tfor j in range(2):\n",
    "\t\t\tfor k in range(2):\n",
    "\t\t\t\tfrac_coords_super.append(\n",
    "\t\t\t\t\t[\n",
    "\t\t\t\t\t\t(frac_coord[0] + i) / 2,\n",
    "\t\t\t\t\t\t(frac_coord[1] + j) / 2,\n",
    "\t\t\t\t\t\t(frac_coord[2] + k) / 2,\n",
    "\t\t\t\t\t]\n",
    "\t\t\t\t)\n",
    "\t\t\t\tspecies_super.append(specie)\n",
    "wzZnO_2x2x2 = Structure(\n",
    "\tlattice=Lattice.from_dict(\n",
    "\t\t{\n",
    "\t\t\t\"a\": wzZnO.lattice.a * 2,\n",
    "\t\t\t\"b\": wzZnO.lattice.b * 2,\n",
    "\t\t\t\"c\": wzZnO.lattice.c * 2,\n",
    "\t\t\t\"alpha\": wzZnO.lattice.alpha,\n",
    "\t\t\t\"beta\": wzZnO.lattice.beta,\n",
    "\t\t\t\"gamma\": wzZnO.lattice.gamma,\n",
    "\t\t}\n",
    "\t),\n",
    "\tspecies=species_super,\n",
    "\tcoords=frac_coords_super,\n",
    ")"
   ]
  },
  {
   "cell_type": "code",
   "execution_count": 3,
   "id": "da0bd81b",
   "metadata": {},
   "outputs": [
    {
     "name": "stdout",
     "output_type": "stream",
     "text": [
      "d_smat(wz-ZnO, wz-ZnO supercell) = 0.0\n",
      "d_smat(wz-ZnO, rs-ZnO) = 1.0\n",
      "d_smat(wz-ZnO, wz-GaN) = 1.0\n",
      "d_smat(wz-ZnO, Bi2Te3) = 1.0\n"
     ]
    }
   ],
   "source": [
    "# d_smat: a binary distance based on pymatgen's StructureMacher\n",
    "print(f\"d_smat(wz-ZnO, wz-ZnO supercell) = {distance('smat', wzZnO, wzZnO_2x2x2)}\")\n",
    "print(f\"d_smat(wz-ZnO, rs-ZnO) = {distance('smat', wzZnO, rsZnO)}\")\n",
    "print(f\"d_smat(wz-ZnO, wz-GaN) = {distance('smat', wzZnO, wzGaN)}\")\n",
    "print(f\"d_smat(wz-ZnO, Bi2Te3) = {distance('smat', wzZnO, Bi2Te3)}\")"
   ]
  },
  {
   "cell_type": "code",
   "execution_count": 4,
   "id": "3975cfe4",
   "metadata": {},
   "outputs": [
    {
     "name": "stdout",
     "output_type": "stream",
     "text": [
      "d_smat(wz-ZnO, wz-ZnO supercell) = 0.0\n",
      "d_smat(wz-ZnO, rs-ZnO) = 1.0\n",
      "d_smat(wz-ZnO, wz-GaN) = 1.0\n",
      "d_smat(wz-ZnO, Bi2Te3) = 1.0\n"
     ]
    }
   ],
   "source": [
    "# You may optionally specify arguments for StructureMatcher\n",
    "# ref: https://pymatgen.org/pymatgen.analysis.html#pymatgen.analysis.structure_matcher.StructureMatcher\n",
    "kwargs = {\"args_dist\": {\"ltol\": 0.3, \"stol\": 0.5, \"angle_tol\": 6}}\n",
    "print(\n",
    "\tf\"d_smat(wz-ZnO, wz-ZnO supercell) = {distance('smat', wzZnO, wzZnO_2x2x2, **kwargs)}\"\n",
    ")\n",
    "print(f\"d_smat(wz-ZnO, rs-ZnO) = {distance('smat', wzZnO, rsZnO, **kwargs)}\")\n",
    "print(f\"d_smat(wz-ZnO, wz-GaN) = {distance('smat', wzZnO, wzGaN, **kwargs)}\")\n",
    "print(f\"d_smat(wz-ZnO, Bi2Te3) = {distance('smat', wzZnO, Bi2Te3, **kwargs)}\")"
   ]
  },
  {
   "cell_type": "code",
   "execution_count": 5,
   "id": "25c569f7",
   "metadata": {},
   "outputs": [
    {
     "name": "stdout",
     "output_type": "stream",
     "text": [
      "d_comp(wz-ZnO, wz-ZnO supercell) = 0.0\n",
      "d_comp(wz-ZnO, rs-ZnO) = 0.0\n",
      "d_comp(wz-ZnO, wz-GaN) = 1.0\n",
      "d_comp(wz-ZnO, Bi2Te3) = 1.0\n"
     ]
    }
   ],
   "source": [
    "# d_comp: a binary distance based on the match of compositions\n",
    "print(f\"d_comp(wz-ZnO, wz-ZnO supercell) = {distance('comp', wzZnO, wzZnO_2x2x2)}\")\n",
    "print(f\"d_comp(wz-ZnO, rs-ZnO) = {distance('comp', wzZnO, rsZnO)}\")\n",
    "print(f\"d_comp(wz-ZnO, wz-GaN) = {distance('comp', wzZnO, wzGaN)}\")\n",
    "print(f\"d_comp(wz-ZnO, Bi2Te3) = {distance('comp', wzZnO, Bi2Te3)}\")"
   ]
  },
  {
   "cell_type": "code",
   "execution_count": 6,
   "id": "96551874",
   "metadata": {},
   "outputs": [
    {
     "name": "stdout",
     "output_type": "stream",
     "text": [
      "d_wyckoff(wz-ZnO, wz-ZnO supercell) = 0.0\n",
      "d_wyckoff(wz-ZnO, rs-ZnO) = 1.0\n",
      "d_wyckoff(wz-ZnO, wz-GaN) = 0.0\n",
      "d_wyckoff(wz-ZnO, Bi2Te3) = 1.0\n"
     ]
    }
   ],
   "source": [
    "# d_wyckoff: a binary distance based on the match of space groups and Wyckoff letters\n",
    "print(\n",
    "\tf\"d_wyckoff(wz-ZnO, wz-ZnO supercell) = {distance('wyckoff', wzZnO, wzZnO_2x2x2)}\"\n",
    ")\n",
    "print(f\"d_wyckoff(wz-ZnO, rs-ZnO) = {distance('wyckoff', wzZnO, rsZnO)}\")\n",
    "print(f\"d_wyckoff(wz-ZnO, wz-GaN) = {distance('wyckoff', wzZnO, wzGaN)}\")\n",
    "print(f\"d_wyckoff(wz-ZnO, Bi2Te3) = {distance('wyckoff', wzZnO, Bi2Te3)}\")"
   ]
  },
  {
   "cell_type": "code",
   "execution_count": 7,
   "id": "e0f993ca",
   "metadata": {},
   "outputs": [
    {
     "name": "stdout",
     "output_type": "stream",
     "text": [
      "d_magpie(wz-ZnO, wz-ZnO supercell) = 0.0\n",
      "d_magpie(wz-ZnO, rs-ZnO) = 0.0\n",
      "d_magpie(wz-ZnO, wz-GaN) = 629.7824086796237\n",
      "d_magpie(wz-ZnO, Bi2Te3) = 1069.5654971383722\n"
     ]
    }
   ],
   "source": [
    "# d_magpie: a continuous distance using compositional Magpie fingerprints\n",
    "print(f\"d_magpie(wz-ZnO, wz-ZnO supercell) = {distance('magpie', wzZnO, wzZnO_2x2x2)}\")\n",
    "print(f\"d_magpie(wz-ZnO, rs-ZnO) = {distance('magpie', wzZnO, rsZnO)}\")\n",
    "print(f\"d_magpie(wz-ZnO, wz-GaN) = {distance('magpie', wzZnO, wzGaN)}\")\n",
    "print(f\"d_magpie(wz-ZnO, Bi2Te3) = {distance('magpie', wzZnO, Bi2Te3)}\")"
   ]
  },
  {
   "cell_type": "code",
   "execution_count": 8,
   "id": "23cedb53",
   "metadata": {},
   "outputs": [
    {
     "name": "stdout",
     "output_type": "stream",
     "text": [
      "d_pdd(wz-ZnO, wz-ZnO supercell) = 0.0\n",
      "d_pdd(wz-ZnO, rs-ZnO) = 1.0416266\n",
      "d_pdd(wz-ZnO, wz-GaN) = 0.09684124\n",
      "d_pdd(wz-ZnO, Bi2Te3) = 3.2760717080000004\n"
     ]
    }
   ],
   "source": [
    "# d_pdd: a continuous structural distance using the pointwise distance distribution.\n",
    "print(f\"d_pdd(wz-ZnO, wz-ZnO supercell) = {distance('pdd', wzZnO, wzZnO_2x2x2)}\")\n",
    "print(f\"d_pdd(wz-ZnO, rs-ZnO) = {distance('pdd', wzZnO, rsZnO)}\")\n",
    "print(f\"d_pdd(wz-ZnO, wz-GaN) = {distance('pdd', wzZnO, wzGaN)}\")\n",
    "print(f\"d_pdd(wz-ZnO, Bi2Te3) = {distance('pdd', wzZnO, Bi2Te3)}\")"
   ]
  },
  {
   "cell_type": "code",
   "execution_count": 9,
   "id": "cc238834",
   "metadata": {},
   "outputs": [
    {
     "name": "stdout",
     "output_type": "stream",
     "text": [
      "d_pdd(wz-ZnO, wz-ZnO supercell) = 0.0\n",
      "d_pdd(wz-ZnO, rs-ZnO) = 1.0416266\n",
      "d_pdd(wz-ZnO, wz-GaN) = 0.12082958\n",
      "d_pdd(wz-ZnO, Bi2Te3) = 3.6986502420000003\n"
     ]
    }
   ],
   "source": [
    "# You may optionally specify arguments for amd.PDD and amd.PDD_cdist. kwargs[\"args_emb\"]\n",
    "# are arguments for amd.PDD, and kwargs[\"args_dist\"] are arguments for amd.PDD_cdist.\n",
    "# ref: https://average-minimum-distance.readthedocs.io/en/stable/Using_PDDs.html\n",
    "kwargs = {\n",
    "\t\"args_emb\": {\"k\": 200},\n",
    "\t\"args_dist\": {\n",
    "\t\t\"metric\": \"chebyshev\",\n",
    "\t\t\"backend\": \"multiprocessing\",\n",
    "\t\t\"n_jobs\": 2,\n",
    "\t\t\"verbose\": False,\n",
    "\t},\n",
    "}\n",
    "print(\n",
    "\tf\"d_pdd(wz-ZnO, wz-ZnO supercell) = {distance('pdd', wzZnO, wzZnO_2x2x2, **kwargs)}\"\n",
    ")\n",
    "print(f\"d_pdd(wz-ZnO, rs-ZnO) = {distance('pdd', wzZnO, rsZnO, **kwargs)}\")\n",
    "print(f\"d_pdd(wz-ZnO, wz-GaN) = {distance('pdd', wzZnO, wzGaN, **kwargs)}\")\n",
    "print(f\"d_pdd(wz-ZnO, Bi2Te3) = {distance('pdd', wzZnO, Bi2Te3, **kwargs)}\")"
   ]
  },
  {
   "cell_type": "code",
   "execution_count": 10,
   "id": "b219781b",
   "metadata": {},
   "outputs": [
    {
     "name": "stdout",
     "output_type": "stream",
     "text": [
      "d_amd(wz-ZnO, wz-ZnO supercell) = 4.440892098500626e-15\n",
      "d_amd(wz-ZnO, rs-ZnO) = 1.0416266067835895\n",
      "d_amd(wz-ZnO, wz-GaN) = 0.0968412400000016\n",
      "d_amd(wz-ZnO, Bi2Te3) = 3.239856771319113\n"
     ]
    }
   ],
   "source": [
    "# d_amd: a continuous structural distance using the average minimum distance.\n",
    "print(f\"d_amd(wz-ZnO, wz-ZnO supercell) = {distance('amd', wzZnO, wzZnO_2x2x2)}\")\n",
    "print(f\"d_amd(wz-ZnO, rs-ZnO) = {distance('amd', wzZnO, rsZnO)}\")\n",
    "print(f\"d_amd(wz-ZnO, wz-GaN) = {distance('amd', wzZnO, wzGaN)}\")\n",
    "print(f\"d_amd(wz-ZnO, Bi2Te3) = {distance('amd', wzZnO, Bi2Te3)}\")"
   ]
  },
  {
   "cell_type": "code",
   "execution_count": 11,
   "id": "06eb2daf",
   "metadata": {},
   "outputs": [
    {
     "name": "stdout",
     "output_type": "stream",
     "text": [
      "d_amd(wz-ZnO, wz-ZnO supercell) = 7.105427357601002e-15\n",
      "d_amd(wz-ZnO, rs-ZnO) = 1.0416266067835895\n",
      "d_amd(wz-ZnO, wz-GaN) = 0.1208295822553982\n",
      "d_amd(wz-ZnO, Bi2Te3) = 3.59863379947711\n"
     ]
    }
   ],
   "source": [
    "# You may optionally specify arguments for amd.AMD and amd.AMD_cdist. kwargs[\"args_emb\"]\n",
    "# are arguments for amd.AMD, and kwargs[\"args_dist\"] are arguments for amd.AMD_cdist.\n",
    "# ref: https://average-minimum-distance.readthedocs.io/en/stable/Using_AMDs.html\n",
    "kwargs = {\n",
    "\t\"args_emb\": {\"k\": 200},\n",
    "\t\"args_dist\": {\"metric\": \"chebyshev\", \"low_memory\": False},\n",
    "}\n",
    "print(\n",
    "\tf\"d_amd(wz-ZnO, wz-ZnO supercell) = {distance('amd', wzZnO, wzZnO_2x2x2, **kwargs)}\"\n",
    ")\n",
    "print(f\"d_amd(wz-ZnO, rs-ZnO) = {distance('amd', wzZnO, rsZnO, **kwargs)}\")\n",
    "print(f\"d_amd(wz-ZnO, wz-GaN) = {distance('amd', wzZnO, wzGaN, **kwargs)}\")\n",
    "print(f\"d_amd(wz-ZnO, Bi2Te3) = {distance('amd', wzZnO, Bi2Te3, **kwargs)}\")"
   ]
  },
  {
   "cell_type": "markdown",
   "id": "a4127491",
   "metadata": {},
   "source": [
    "### Uniqueness and Novelty evaluation"
   ]
  },
  {
   "cell_type": "markdown",
   "id": "7b5ecbc5",
   "metadata": {},
   "source": [
    "### "
   ]
  },
  {
   "cell_type": "code",
   "execution_count": 12,
   "id": "939b597f",
   "metadata": {},
   "outputs": [],
   "source": [
    "# Load a set of crystals\n",
    "\n",
    "# You can alternatively prepare your own set of crystals (list[xtalmet.crystal.Crystal]\n",
    "# or list[pymatgen.core.Structure]).\n",
    "\n",
    "path = hf_hub_download(\n",
    "\trepo_id=\"masahiro-negishi/xtalmet\",\n",
    "\tfilename=\"mp20/model/cdvae.pkl.gz\",\n",
    "\trepo_type=\"dataset\",\n",
    "\trevision=HF_VERSION,\n",
    ")\n",
    "with gzip.open(path, \"rb\") as f:\n",
    "\tgen_xtals = pickle.load(f)\n",
    "\n",
    "# Use only the first 100 crystals for this tutorial\n",
    "gen_xtals = gen_xtals[:100]"
   ]
  },
  {
   "cell_type": "code",
   "execution_count": 13,
   "id": "29bb78c3",
   "metadata": {},
   "outputs": [],
   "source": [
    "# Prepare an evaluator\n",
    "evaluator = Evaluator(gen_xtals)"
   ]
  },
  {
   "cell_type": "code",
   "execution_count": 14,
   "id": "089e16df",
   "metadata": {},
   "outputs": [
    {
     "name": "stdout",
     "output_type": "stream",
     "text": [
      "Uniqueness: 1.2808\n",
      "Computation times (s): {'uni_emb': 0.02069830894470215, 'uni_d_mtx': 0.00404667854309082, 'uni_metric': 2.1219253540039062e-05, 'uni_total': 0.024766206741333008}\n"
     ]
    }
   ],
   "source": [
    "# Evaluate uniqueness\n",
    "distance = \"amd\"  # Options: \"smat\", \"comp\", \"wyckoff\", \"magpie\", \"pdd\", \"amd\"\n",
    "screen = None  # Options: None, \"smact\", \"ehull\"\n",
    "uni, uni_times = evaluator.uniqueness(\n",
    "\tdistance=distance, screen=screen, dir_intermediate_gen=None, return_time=True\n",
    ")\n",
    "# Note: If you calculate uniqueness using the same distance metric several times (e.g.,\n",
    "# when trying out different screening methods), we strongly recommend specifying\n",
    "# dir_intermediate_gen. This means that the distance matrix computed in the first run\n",
    "# will be saved in the directory and used thereafter, significantly reducing the\n",
    "# computation cost.\n",
    "\n",
    "print(f\"Uniqueness: {uni:.4f}\")\n",
    "print(f\"Computation times (s): {uni_times}\")"
   ]
  },
  {
   "cell_type": "code",
   "execution_count": 15,
   "id": "14495ee8",
   "metadata": {},
   "outputs": [
    {
     "name": "stdout",
     "output_type": "stream",
     "text": [
      "Novelty: 0.2009\n",
      "Computation times (s): {'nov_emb_train': 0.0, 'nov_emb_gen': 0.021158933639526367, 'nov_d_mtx': 0.34051036834716797, 'nov_metric': 0.0020437240600585938, 'nov_total': 0.36371302604675293}\n"
     ]
    }
   ],
   "source": [
    "# Evaluate novelty\n",
    "train_xtals = \"mp20\"  # Options: \"mp20\", list[xtalmet.crystal.Crystal], list[pymatgen.core.Structure]\n",
    "distance = \"amd\"  # Options: \"smat\", \"comp\", \"wyckoff\", \"magpie\", \"pdd\", \"amd\"\n",
    "screen = None  # Options: None, \"smact\", \"ehull\"\n",
    "nov, nov_times = evaluator.novelty(\n",
    "\ttrain_xtals=train_xtals,\n",
    "\tdistance=distance,\n",
    "\tscreen=screen,\n",
    "\tdir_intermediate_gen=None,\n",
    "\treturn_time=True,\n",
    ")\n",
    "# Note: Again, if you calculate novelty using the same distance metric several times, we\n",
    "# strongly recommend specifying dir_intermediate_gen.\n",
    "\n",
    "print(f\"Novelty: {nov:.4f}\")\n",
    "print(f\"Computation times (s): {nov_times}\")\n"
   ]
  }
 ],
 "metadata": {
  "kernelspec": {
   "display_name": "xtalmet",
   "language": "python",
   "name": "python3"
  },
  "language_info": {
   "codemirror_mode": {
    "name": "ipython",
    "version": 3
   },
   "file_extension": ".py",
   "mimetype": "text/x-python",
   "name": "python",
   "nbconvert_exporter": "python",
   "pygments_lexer": "ipython3",
   "version": "3.12.10"
  }
 },
 "nbformat": 4,
 "nbformat_minor": 5
}
