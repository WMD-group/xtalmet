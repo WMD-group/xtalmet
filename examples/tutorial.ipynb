{
 "cells": [
  {
   "cell_type": "markdown",
   "id": "ea98e193",
   "metadata": {},
   "source": [
    "# Tutorial on xtalmet package\n",
    "This notebook provides a tutorial on evaluating the uniqueness and novelty of a given set of generated crystals using the `xtalmet` package."
   ]
  },
  {
   "cell_type": "markdown",
   "id": "a960f95c",
   "metadata": {},
   "source": [
    "### Setup"
   ]
  },
  {
   "cell_type": "code",
   "execution_count": 1,
   "id": "afbf97d6",
   "metadata": {},
   "outputs": [
    {
     "name": "stderr",
     "output_type": "stream",
     "text": [
      "/rds/general/user/mn825/home/proj/xtalmet/.venv/lib/python3.12/site-packages/tqdm/auto.py:21: TqdmWarning: IProgress not found. Please update jupyter and ipywidgets. See https://ipywidgets.readthedocs.io/en/stable/user_install.html\n",
      "  from .autonotebook import tqdm as notebook_tqdm\n",
      "UserWarning: Environment variable TORCH_FORCE_NO_WEIGHTS_ONLY_LOAD detected, since the`weights_only` argument was not explicitly passed to `torch.load`, forcing weights_only=False.\n"
     ]
    },
    {
     "name": "stdout",
     "output_type": "stream",
     "text": [
      "cuequivariance or cuequivariance_torch is not available. Cuequivariance acceleration will be disabled.\n"
     ]
    }
   ],
   "source": [
    "import gzip\n",
    "import pickle\n",
    "\n",
    "from huggingface_hub import hf_hub_download\n",
    "\n",
    "from xtalmet.evaluator import Evaluator"
   ]
  },
  {
   "cell_type": "markdown",
   "id": "a4127491",
   "metadata": {},
   "source": [
    "### Evaluation"
   ]
  },
  {
   "cell_type": "markdown",
   "id": "7b5ecbc5",
   "metadata": {},
   "source": [
    "### "
   ]
  },
  {
   "cell_type": "code",
   "execution_count": 2,
   "id": "939b597f",
   "metadata": {},
   "outputs": [],
   "source": [
    "# Load a set of crystals\n",
    "\n",
    "# You can alternatively prepare your own set of crystals (list[xtalmet.crystal.Crystal]\n",
    "# or list[pymatgen.core.Structure]).\n",
    "\n",
    "path = hf_hub_download(\n",
    "\trepo_id=\"masahiro-negishi/xtalmet\",\n",
    "\tfilename=\"mp20/model/cdvae.pkl.gz\",\n",
    "\trepo_type=\"dataset\",\n",
    ")\n",
    "with gzip.open(path, \"rb\") as f:\n",
    "\tgen_xtals = pickle.load(f)\n",
    "\n",
    "# Use only the first 100 crystals for this tutorial\n",
    "gen_xtals = gen_xtals[:100]"
   ]
  },
  {
   "cell_type": "code",
   "execution_count": 3,
   "id": "29bb78c3",
   "metadata": {},
   "outputs": [],
   "source": [
    "# Prepare an evaluator\n",
    "evaluator = Evaluator(gen_xtals)"
   ]
  },
  {
   "cell_type": "code",
   "execution_count": 4,
   "id": "089e16df",
   "metadata": {},
   "outputs": [
    {
     "name": "stdout",
     "output_type": "stream",
     "text": [
      "Uniqueness: 1.2808\n",
      "Computation times (s): {'uni_emb': 0.17191743850708008, 'uni_d_mtx': 0.007668495178222656, 'uni_metric': 1.7881393432617188e-05, 'uni_total': 0.17960381507873535}\n"
     ]
    }
   ],
   "source": [
    "# Evaluate uniqueness\n",
    "distance = \"amd\"  # Options: \"smat\", \"comp\", \"wyckoff\", \"magpie\", \"pdd\", \"amd\"\n",
    "screen = None  # Options: None, \"smact\", \"ehull\"\n",
    "uni, uni_times = evaluator.uniqueness(\n",
    "\tdistance=distance, screen=screen, dir_intermediate=None, return_time=True\n",
    ")\n",
    "# Note: If you calculate uniqueness using the same distance metric several times (e.g.,\n",
    "# when trying out different screening methods), we strongly recommend specifying\n",
    "# dir_intermediate. This means that the distance matrix computed in the first run will\n",
    "# be saved in the directory and used thereafter, significantly reducing the computation\n",
    "# cost.\n",
    "\n",
    "print(f\"Uniqueness: {uni:.4f}\")\n",
    "print(f\"Computation times (s): {uni_times}\")"
   ]
  },
  {
   "cell_type": "code",
   "execution_count": 5,
   "id": "14495ee8",
   "metadata": {},
   "outputs": [
    {
     "name": "stdout",
     "output_type": "stream",
     "text": [
      "Novelty: 0.2009\n",
      "Computation times (s): {'nov_emb_gen': 0.01799321174621582, 'nov_emb_train': 0.3856959342956543, 'nov_d_mtx': 0.14848995208740234, 'nov_metric': 0.001974821090698242, 'nov_total': 0.5541539192199707}\n"
     ]
    }
   ],
   "source": [
    "# Evaluate novelty\n",
    "train_xtals = \"mp20\"  # Options: \"mp20\", list[xtalmet.crystal.Crystal], list[pymatgen.core.Structure]\n",
    "distance = \"amd\"  # Options: \"smat\", \"comp\", \"wyckoff\", \"magpie\", \"pdd\", \"amd\"\n",
    "screen = None  # Options: None, \"smact\", \"ehull\"\n",
    "nov, nov_times = evaluator.novelty(\n",
    "\ttrain_xtals=train_xtals,\n",
    "\tdistance=distance,\n",
    "\tscreen=screen,\n",
    "\tdir_intermediate=None,\n",
    "\treturn_time=True,\n",
    ")\n",
    "# Note: Again, if you calculate novelty using the same distance metric several times, we\n",
    "# strongly recommend specifying dir_intermediate.\n",
    "\n",
    "print(f\"Novelty: {nov:.4f}\")\n",
    "print(f\"Computation times (s): {nov_times}\")\n"
   ]
  }
 ],
 "metadata": {
  "kernelspec": {
   "display_name": "xtalmet",
   "language": "python",
   "name": "python3"
  },
  "language_info": {
   "codemirror_mode": {
    "name": "ipython",
    "version": 3
   },
   "file_extension": ".py",
   "mimetype": "text/x-python",
   "name": "python",
   "nbconvert_exporter": "python",
   "pygments_lexer": "ipython3",
   "version": "3.12.10"
  }
 },
 "nbformat": 4,
 "nbformat_minor": 5
}
